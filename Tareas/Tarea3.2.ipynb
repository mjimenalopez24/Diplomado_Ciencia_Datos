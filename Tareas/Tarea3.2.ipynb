{
 "cells": [
  {
   "cell_type": "markdown",
   "id": "28915f22-4f07-4934-b1b0-6e49f046b8a1",
   "metadata": {},
   "source": [
    "# Tarea 3\n",
    "## Clase 2"
   ]
  },
  {
   "cell_type": "markdown",
   "id": "a44f859d-d55c-43b1-b666-368772efd059",
   "metadata": {},
   "source": [
    "<a href=\"https://colab.research.google.com/github/mjimenalopez24/Diplomado_Ciencia_Datos/blob/main/Tareas/.ipynb_checkpoints/Tarea3.2-checkpoint.ipynb\"><img src=\"https://colab.research.google.com/assets/colab-badge.svg\" alt=\"Open In Colab\"/></a>"
   ]
  },
  {
   "cell_type": "markdown",
   "id": "25e07e41-da63-4027-a9f2-eba7082e1162",
   "metadata": {},
   "source": [
    "3. Escriba una clase con las siguientes funcionalidades:\n",
    "\n",
    "    - Al instanciar un objeto, lee un conjunto de datos numéricos. Por ejemplo puede usar el mismo conjunto de datos iris.csv. Instancie los datos en un dataframe de Pandas\n",
    "    - Implemente un método que calcule las estadísticas descriptivas básicas de cada una de las variables.\n",
    "    - Implemente un método que entregue los nombre de las variables disponibles.\n",
    "    - Implemente un método que reciba el nombre de una variable disponible dentro del objeto ( en el  dataframe) y regrese: sus estadísticas básicas:  media, mediana, desviación, percentiles q25, q50, q75 y dibuje un histograma de la distribución de la variable.\n",
    "\n",
    "Pruebe su clase."
   ]
  },
  {
   "cell_type": "code",
   "execution_count": 18,
   "id": "ca8a53df-f067-417d-9c37-60b4b76c5887",
   "metadata": {
    "tags": []
   },
   "outputs": [],
   "source": [
    "import pandas as pd\n",
    "import matplotlib.pyplot as plt\n",
    "\n",
    "class EstDescriptivas_df:\n",
    "    def __init__(self, archivo):\n",
    "        self.datos = pd.read_csv(archivo)\n",
    "\n",
    "    def variables(self):\n",
    "        return list(self.datos.columns)\n",
    "\n",
    "    def estadisticas(self):\n",
    "        return round(self.datos.describe(),3)\n",
    "\n",
    "    def grafico_variable(self, variable):\n",
    "        datos_variable = self.datos[variable]\n",
    "        fig, ax = plt.subplots()\n",
    "        ax.hist(datos_variable)\n",
    "        ax.set_title(variable)\n",
    "        ax.set_xlabel('x')\n",
    "        ax.set_ylabel('Frecuencia')\n",
    "        plt.show()\n",
    "\n",
    "        return datos_variable.describe()"
   ]
  },
  {
   "cell_type": "code",
   "execution_count": 19,
   "id": "8489f642-b64d-436f-8e48-0dfb9c982b03",
   "metadata": {
    "tags": []
   },
   "outputs": [
    {
     "data": {
      "text/plain": [
       "<__main__.EstDescriptivas_df at 0x7f77da56f130>"
      ]
     },
     "execution_count": 19,
     "metadata": {},
     "output_type": "execute_result"
    }
   ],
   "source": [
    "datos = EstDescriptivas_df('iris.csv')\n",
    "datos"
   ]
  },
  {
   "cell_type": "code",
   "execution_count": 3,
   "id": "d2dc832d-cd14-42a3-92fb-36eb79394665",
   "metadata": {
    "tags": []
   },
   "outputs": [
    {
     "data": {
      "text/plain": [
       "['Id',\n",
       " 'SepalLengthCm',\n",
       " 'SepalWidthCm',\n",
       " 'PetalLengthCm',\n",
       " 'PetalWidthCm',\n",
       " 'Species']"
      ]
     },
     "execution_count": 3,
     "metadata": {},
     "output_type": "execute_result"
    }
   ],
   "source": [
    "datos.variables()"
   ]
  },
  {
   "cell_type": "code",
   "execution_count": 9,
   "id": "117be581-fd2e-4c3b-a556-302180fb1855",
   "metadata": {
    "tags": []
   },
   "outputs": [
    {
     "data": {
      "text/html": [
       "<div>\n",
       "<style scoped>\n",
       "    .dataframe tbody tr th:only-of-type {\n",
       "        vertical-align: middle;\n",
       "    }\n",
       "\n",
       "    .dataframe tbody tr th {\n",
       "        vertical-align: top;\n",
       "    }\n",
       "\n",
       "    .dataframe thead th {\n",
       "        text-align: right;\n",
       "    }\n",
       "</style>\n",
       "<table border=\"1\" class=\"dataframe\">\n",
       "  <thead>\n",
       "    <tr style=\"text-align: right;\">\n",
       "      <th></th>\n",
       "      <th>Id</th>\n",
       "      <th>SepalLengthCm</th>\n",
       "      <th>SepalWidthCm</th>\n",
       "      <th>PetalLengthCm</th>\n",
       "      <th>PetalWidthCm</th>\n",
       "    </tr>\n",
       "  </thead>\n",
       "  <tbody>\n",
       "    <tr>\n",
       "      <th>count</th>\n",
       "      <td>150.000</td>\n",
       "      <td>150.000</td>\n",
       "      <td>150.000</td>\n",
       "      <td>150.000</td>\n",
       "      <td>150.000</td>\n",
       "    </tr>\n",
       "    <tr>\n",
       "      <th>mean</th>\n",
       "      <td>75.500</td>\n",
       "      <td>5.843</td>\n",
       "      <td>3.054</td>\n",
       "      <td>3.759</td>\n",
       "      <td>1.199</td>\n",
       "    </tr>\n",
       "    <tr>\n",
       "      <th>std</th>\n",
       "      <td>43.445</td>\n",
       "      <td>0.828</td>\n",
       "      <td>0.434</td>\n",
       "      <td>1.764</td>\n",
       "      <td>0.763</td>\n",
       "    </tr>\n",
       "    <tr>\n",
       "      <th>min</th>\n",
       "      <td>1.000</td>\n",
       "      <td>4.300</td>\n",
       "      <td>2.000</td>\n",
       "      <td>1.000</td>\n",
       "      <td>0.100</td>\n",
       "    </tr>\n",
       "    <tr>\n",
       "      <th>25%</th>\n",
       "      <td>38.250</td>\n",
       "      <td>5.100</td>\n",
       "      <td>2.800</td>\n",
       "      <td>1.600</td>\n",
       "      <td>0.300</td>\n",
       "    </tr>\n",
       "    <tr>\n",
       "      <th>50%</th>\n",
       "      <td>75.500</td>\n",
       "      <td>5.800</td>\n",
       "      <td>3.000</td>\n",
       "      <td>4.350</td>\n",
       "      <td>1.300</td>\n",
       "    </tr>\n",
       "    <tr>\n",
       "      <th>75%</th>\n",
       "      <td>112.750</td>\n",
       "      <td>6.400</td>\n",
       "      <td>3.300</td>\n",
       "      <td>5.100</td>\n",
       "      <td>1.800</td>\n",
       "    </tr>\n",
       "    <tr>\n",
       "      <th>max</th>\n",
       "      <td>150.000</td>\n",
       "      <td>7.900</td>\n",
       "      <td>4.400</td>\n",
       "      <td>6.900</td>\n",
       "      <td>2.500</td>\n",
       "    </tr>\n",
       "  </tbody>\n",
       "</table>\n",
       "</div>"
      ],
      "text/plain": [
       "            Id  SepalLengthCm  SepalWidthCm  PetalLengthCm  PetalWidthCm\n",
       "count  150.000        150.000       150.000        150.000       150.000\n",
       "mean    75.500          5.843         3.054          3.759         1.199\n",
       "std     43.445          0.828         0.434          1.764         0.763\n",
       "min      1.000          4.300         2.000          1.000         0.100\n",
       "25%     38.250          5.100         2.800          1.600         0.300\n",
       "50%     75.500          5.800         3.000          4.350         1.300\n",
       "75%    112.750          6.400         3.300          5.100         1.800\n",
       "max    150.000          7.900         4.400          6.900         2.500"
      ]
     },
     "execution_count": 9,
     "metadata": {},
     "output_type": "execute_result"
    }
   ],
   "source": [
    "datos.estadisticas()"
   ]
  },
  {
   "cell_type": "code",
   "execution_count": 20,
   "id": "1504beb6-cbe6-479a-b3e4-7d62f2c0356b",
   "metadata": {
    "tags": []
   },
   "outputs": [
    {
     "data": {
      "image/png": "[encoded data removed]",
      "text/plain": [
       "<Figure size 640x480 with 1 Axes>"
      ]
     },
     "metadata": {},
     "output_type": "display_data"
    },
    {
     "data": {
      "text/plain": [
       "count    150.000000\n",
       "mean       5.843333\n",
       "std        0.828066\n",
       "min        4.300000\n",
       "25%        5.100000\n",
       "50%        5.800000\n",
       "75%        6.400000\n",
       "max        7.900000\n",
       "Name: SepalLengthCm, dtype: float64"
      ]
     },
     "execution_count": 20,
     "metadata": {},
     "output_type": "execute_result"
    }
   ],
   "source": [
    "datos.grafico_variable('SepalLengthCm')"
   ]
  },
  {
   "cell_type": "code",
   "execution_count": null,
   "id": "e7711396-d2de-4e5e-9789-4abab1e98c09",
   "metadata": {},
   "outputs": [],
   "source": []
  }
 ],
 "metadata": {
  "kernelspec": {
   "display_name": "Python 3 (ipykernel)",
   "language": "python",
   "name": "python3"
  },
  "language_info": {
   "codemirror_mode": {
    "name": "ipython",
    "version": 3
   },
   "file_extension": ".py",
   "mimetype": "text/x-python",
   "name": "python",
   "nbconvert_exporter": "python",
   "pygments_lexer": "ipython3",
   "version": "3.10.8"
  }
 },
 "nbformat": 4,
 "nbformat_minor": 5
}
