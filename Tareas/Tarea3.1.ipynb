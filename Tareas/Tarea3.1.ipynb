{
 "cells": [
  {
   "cell_type": "markdown",
   "id": "d858a0f5-0f48-4813-b0f2-717cc496b131",
   "metadata": {},
   "source": [
    "# Tarea 3\n",
    "## Clase 1"
   ]
  },
  {
   "cell_type": "markdown",
   "id": "2036816c-0d75-4966-abe1-799a60b7ea2a",
   "metadata": {},
   "source": [
    "1. Consiga el conjunto de datos iris.csv. En el repositorio de Aprendizaje Profundo encuentra alguna versión.\n",
    "\n",
    "2. Escriba una clase iterable que tenga la siguiente funcionalidad\n",
    "\n",
    "    - Al instanciar un objeto, lee el archivo de datos y lo coloca en un dataframe interno en la clase.\n",
    "    - Cada vez que se le pidan datos, debe regresar los dos siguientes datos.\n",
    "    - Entregue un error si los datos se han agotado\n",
    "\n",
    "Pruebe su clase"
   ]
  },
  {
   "cell_type": "code",
   "execution_count": 2,
   "id": "e2898c48-b896-4c3d-a790-8c4d722d3314",
   "metadata": {},
   "outputs": [],
   "source": [
    "import pandas as pd\n",
    "\n",
    "class ClaseIterable:\n",
    "    def __init__(self, filename):\n",
    "        self.data = pd.read_csv(filename)\n",
    "        self.index = 0\n",
    "\n",
    "    def __iter__(self):\n",
    "        return self\n",
    "\n",
    "    def __next__(self):\n",
    "        if self.index >= len(self.data):\n",
    "            raise StopIteration\n",
    "        else:\n",
    "            result = (self.data.iloc[self.index], self.data.iloc[self.index+1])\n",
    "            self.index += 2\n",
    "            return result"
   ]
  },
  {
   "cell_type": "code",
   "execution_count": 4,
   "id": "0f3e9306-b529-4e20-a413-ec432e928918",
   "metadata": {
    "tags": []
   },
   "outputs": [
    {
     "data": {
      "text/plain": [
       "<__main__.ClaseIterable at 0x7f7ff00f0c70>"
      ]
     },
     "execution_count": 4,
     "metadata": {},
     "output_type": "execute_result"
    }
   ],
   "source": [
    "datos = ClaseIterable('iris.csv')\n",
    "datos"
   ]
  },
  {
   "cell_type": "code",
   "execution_count": 5,
   "id": "7fd88496-5535-4b56-96cd-e3b5c4dd0086",
   "metadata": {
    "tags": []
   },
   "outputs": [
    {
     "data": {
      "text/plain": [
       "(Id                         1\n",
       " SepalLengthCm            5.1\n",
       " SepalWidthCm             3.5\n",
       " PetalLengthCm            1.4\n",
       " PetalWidthCm             0.2\n",
       " Species          Iris-setosa\n",
       " Name: 0, dtype: object,\n",
       " Id                         2\n",
       " SepalLengthCm            4.9\n",
       " SepalWidthCm             3.0\n",
       " PetalLengthCm            1.4\n",
       " PetalWidthCm             0.2\n",
       " Species          Iris-setosa\n",
       " Name: 1, dtype: object)"
      ]
     },
     "execution_count": 5,
     "metadata": {},
     "output_type": "execute_result"
    }
   ],
   "source": [
    "datos.__next__()"
   ]
  },
  {
   "cell_type": "code",
   "execution_count": 6,
   "id": "c50ec41f-085b-4428-aaba-c234b3ded1e2",
   "metadata": {
    "tags": []
   },
   "outputs": [
    {
     "data": {
      "text/plain": [
       "(Id                         3\n",
       " SepalLengthCm            4.7\n",
       " SepalWidthCm             3.2\n",
       " PetalLengthCm            1.3\n",
       " PetalWidthCm             0.2\n",
       " Species          Iris-setosa\n",
       " Name: 2, dtype: object,\n",
       " Id                         4\n",
       " SepalLengthCm            4.6\n",
       " SepalWidthCm             3.1\n",
       " PetalLengthCm            1.5\n",
       " PetalWidthCm             0.2\n",
       " Species          Iris-setosa\n",
       " Name: 3, dtype: object)"
      ]
     },
     "execution_count": 6,
     "metadata": {},
     "output_type": "execute_result"
    }
   ],
   "source": [
    "datos.__next__()"
   ]
  },
  {
   "cell_type": "code",
   "execution_count": 8,
   "id": "701cb03e-6953-4c13-aeae-b20d94a0eec5",
   "metadata": {
    "tags": []
   },
   "outputs": [
    {
     "data": {
      "text/plain": [
       "(Id                         5\n",
       " SepalLengthCm            5.0\n",
       " SepalWidthCm             3.6\n",
       " PetalLengthCm            1.4\n",
       " PetalWidthCm             0.2\n",
       " Species          Iris-setosa\n",
       " Name: 4, dtype: object,\n",
       " Id                         6\n",
       " SepalLengthCm            5.4\n",
       " SepalWidthCm             3.9\n",
       " PetalLengthCm            1.7\n",
       " PetalWidthCm             0.4\n",
       " Species          Iris-setosa\n",
       " Name: 5, dtype: object)"
      ]
     },
     "execution_count": 8,
     "metadata": {},
     "output_type": "execute_result"
    }
   ],
   "source": [
    "datos.__next__()"
   ]
  },
  {
   "cell_type": "code",
   "execution_count": 17,
   "id": "9fa52dde-ae59-41f2-b11c-b2cd972cd99b",
   "metadata": {
    "tags": []
   },
   "outputs": [
    {
     "ename": "StopIteration",
     "evalue": "",
     "output_type": "error",
     "traceback": [
      "\u001b[0;31m---------------------------------------------------------------------------\u001b[0m",
      "\u001b[0;31mStopIteration\u001b[0m                             Traceback (most recent call last)",
      "Cell \u001b[0;32mIn[17], line 2\u001b[0m\n\u001b[1;32m      1\u001b[0m \u001b[38;5;28;01mfor\u001b[39;00m i \u001b[38;5;129;01min\u001b[39;00m \u001b[38;5;28mrange\u001b[39m(\u001b[38;5;241m1\u001b[39m,\u001b[38;5;241m73\u001b[39m):\n\u001b[0;32m----> 2\u001b[0m     \u001b[38;5;28mprint\u001b[39m(\u001b[43mdatos\u001b[49m\u001b[38;5;241;43m.\u001b[39;49m\u001b[38;5;21;43m__next__\u001b[39;49m\u001b[43m(\u001b[49m\u001b[43m)\u001b[49m)\n",
      "Cell \u001b[0;32mIn[2], line 13\u001b[0m, in \u001b[0;36mClaseIterable.__next__\u001b[0;34m(self)\u001b[0m\n\u001b[1;32m     11\u001b[0m \u001b[38;5;28;01mdef\u001b[39;00m \u001b[38;5;21m__next__\u001b[39m(\u001b[38;5;28mself\u001b[39m):\n\u001b[1;32m     12\u001b[0m     \u001b[38;5;28;01mif\u001b[39;00m \u001b[38;5;28mself\u001b[39m\u001b[38;5;241m.\u001b[39mindex \u001b[38;5;241m>\u001b[39m\u001b[38;5;241m=\u001b[39m \u001b[38;5;28mlen\u001b[39m(\u001b[38;5;28mself\u001b[39m\u001b[38;5;241m.\u001b[39mdata):\n\u001b[0;32m---> 13\u001b[0m         \u001b[38;5;28;01mraise\u001b[39;00m \u001b[38;5;167;01mStopIteration\u001b[39;00m\n\u001b[1;32m     14\u001b[0m     \u001b[38;5;28;01melse\u001b[39;00m:\n\u001b[1;32m     15\u001b[0m         result \u001b[38;5;241m=\u001b[39m (\u001b[38;5;28mself\u001b[39m\u001b[38;5;241m.\u001b[39mdata\u001b[38;5;241m.\u001b[39miloc[\u001b[38;5;28mself\u001b[39m\u001b[38;5;241m.\u001b[39mindex], \u001b[38;5;28mself\u001b[39m\u001b[38;5;241m.\u001b[39mdata\u001b[38;5;241m.\u001b[39miloc[\u001b[38;5;28mself\u001b[39m\u001b[38;5;241m.\u001b[39mindex\u001b[38;5;241m+\u001b[39m\u001b[38;5;241m1\u001b[39m])\n",
      "\u001b[0;31mStopIteration\u001b[0m: "
     ]
    }
   ],
   "source": [
    "for i in range(1,73):\n",
    "    print(datos.__next__())"
   ]
  },
  {
   "cell_type": "code",
   "execution_count": null,
   "id": "4e454a00-378d-4db2-9623-3114a165946d",
   "metadata": {},
   "outputs": [],
   "source": []
  }
 ],
 "metadata": {
  "kernelspec": {
   "display_name": "Python 3 (ipykernel)",
   "language": "python",
   "name": "python3"
  },
  "language_info": {
   "codemirror_mode": {
    "name": "ipython",
    "version": 3
   },
   "file_extension": ".py",
   "mimetype": "text/x-python",
   "name": "python",
   "nbconvert_exporter": "python",
   "pygments_lexer": "ipython3",
   "version": "3.10.8"
  }
 },
 "nbformat": 4,
 "nbformat_minor": 5
}
