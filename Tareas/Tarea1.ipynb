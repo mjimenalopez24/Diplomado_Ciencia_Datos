{
 "cells": [
  {
   "cell_type": "markdown",
   "id": "29bc11cf-fdba-425d-b107-747e26e1cd8b",
   "metadata": {},
   "source": [
    "# Ciencia de datos"
   ]
  },
  {
   "cell_type": "markdown",
   "id": "75926d26-0460-46df-8218-02e0f3d75525",
   "metadata": {},
   "source": [
    "![](InteligenciaArtificial/img/Data_Science_storytelling.jpeg)"
   ]
  },
  {
   "cell_type": "markdown",
   "id": "0ec31375-4b6e-4504-b0b3-a12dcca77251",
   "metadata": {},
   "source": [
    "![](InteligenciaArtificial/img/Python_logo.svg)"
   ]
  },
  {
   "cell_type": "markdown",
   "id": "02069573-992b-44e6-84c9-2cf932cb42f6",
   "metadata": {
    "tags": []
   },
   "source": [
    "En esta lección introduciremos el concepto de correlación, el cual, es muy usado en la ciencia de datos."
   ]
  },
  {
   "cell_type": "markdown",
   "id": "63178b57-66e4-4002-9d97-d22e012df427",
   "metadata": {},
   "source": [
    "## Correlación\n",
    "\n",
    "### Definición\n",
    "\n",
    "### Fórmula\n",
    "\n",
    "### Ejemplo"
   ]
  },
  {
   "cell_type": "markdown",
   "id": "18edc826-14bb-4961-abf6-b84d40a1b712",
   "metadata": {},
   "source": [
    "## Referencias"
   ]
  },
  {
   "cell_type": "markdown",
   "id": "ae3401e5-7208-401c-ac22-303389e8852e",
   "metadata": {},
   "source": [
    "1. [CIENCIA DE DATOS O DATA ANALISIS: TÉRMINOS Y CONCEPTOS BÁSICOS, Unipython blog](https://unipython.com/ciencia-de-datos-o-data-analisis-terminos-y-conceptos-basicos/)"
   ]
  },
  {
   "cell_type": "markdown",
   "id": "3e79edb8-62a5-4546-a714-e39c7f39c6a4",
   "metadata": {},
   "source": [
    "## Autor"
   ]
  },
  {
   "cell_type": "markdown",
   "id": "2598a391-dd53-4a6f-9ed4-99ed714aa23f",
   "metadata": {},
   "source": [
    "![](http://localhost:8888/lab/tree/InteligenciaArtificial/img/Foto%20perfil.jpg)"
   ]
  },
  {
   "cell_type": "code",
   "execution_count": null,
   "id": "f6e2608d-2fc3-4b73-8862-a2f342d1ee69",
   "metadata": {},
   "outputs": [],
   "source": []
  },
  {
   "cell_type": "code",
   "execution_count": null,
   "id": "4389be2f-0ec1-4946-be90-7dc994951707",
   "metadata": {},
   "outputs": [],
   "source": []
  }
 ],
 "metadata": {
  "kernelspec": {
   "display_name": "Python 3 (ipykernel)",
   "language": "python",
   "name": "python3"
  },
  "language_info": {
   "codemirror_mode": {
    "name": "ipython",
    "version": 3
   },
   "file_extension": ".py",
   "mimetype": "text/x-python",
   "name": "python",
   "nbconvert_exporter": "python",
   "pygments_lexer": "ipython3",
   "version": "3.10.8"
  }
 },
 "nbformat": 4,
 "nbformat_minor": 5
}
