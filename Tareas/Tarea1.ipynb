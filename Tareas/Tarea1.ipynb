{
 "cells": [
  {
   "cell_type": "markdown",
   "id": "29bc11cf-fdba-425d-b107-747e26e1cd8b",
   "metadata": {},
   "source": [
    "# Ciencia de datos"
   ]
  },
  {
   "cell_type": "markdown",
   "id": "b7d4200d-54f4-4878-974a-b98851d8fc68",
   "metadata": {
    "tags": []
   },
   "source": [
    "<a href=\"https://colab.research.google.com/github/mjimenalopez24/Diplomado_Ciencia_Datos/blob/main/Tareas/Tarea1.ipynb\"><img src=\"https://colab.research.google.com/assets/colab-badge.svg\" alt=\"Open In Colab\"/></a>"
   ]
  },
  {
   "cell_type": "markdown",
   "id": "9504d370-187b-4776-984e-2b2be794cf6c",
   "metadata": {
    "tags": []
   },
   "source": [
    "<center>\n",
    "<img src=\"../img/Data_Science_storytelling.jpeg\"\n",
    "     width=\"40%\">\n",
    "<img src=\"../img/Python_logo.svg\"\n",
    "     width=\"35%\">\n",
    "</center>"
   ]
  },
  {
   "cell_type": "markdown",
   "id": "02069573-992b-44e6-84c9-2cf932cb42f6",
   "metadata": {
    "tags": []
   },
   "source": [
    "En esta lección introduciremos un concepto muy usado en la ciencia de datos: correlación"
   ]
  },
  {
   "cell_type": "markdown",
   "id": "63178b57-66e4-4002-9d97-d22e012df427",
   "metadata": {},
   "source": [
    "## Correlación\n",
    "\n",
    "### Definición\n",
    "\n",
    "La correlación es una medida del grado de asociación entre variables. Esta puede ser lineal o no lineal. Una de las más conocidas es la correlación lineal de Pearson, la cual se basa en la covarianza y la varianza. A continuación se presenta la fórmula.\n",
    "\n",
    "Sean $X$ y $Y$ variables aleatorias, el coeficiente de correlación de Pearson se define como:\n",
    "\n",
    "$$\\rho_{XY} = \\frac{cov(X,Y)}{\\sqrt{var(X)var(Y)}}$$\n",
    "\n",
    "con $-1 \\leq \\rho_{XY} \\leq 1$. En donde 0 significa no correlación lineal, 1 significa correlación lineal positiva perfecta y -1 significa correlación lineal negativa perfecta.\n",
    "\n",
    "Como lo explica el autor en [1]:\n",
    "\n",
    "> Mide la fuerza y dirección de una relación lineal y la proporcionalidad entre dos variables estadísticas distintas. Si ambas variables aumentan juntas, están correlacionadas de forma positiva. Si una crece y la otra disminuye, están correlacionados de forma negativa. No existe correlación si el cambio en una de las variables no tiene conexión alguna con el cambio en la otra variable.  \n",
    "\n",
    "### Ejemplo\n",
    "\n",
    "A continuación se presenta la matriz de correlación del set de datos *iris*, es decir, el coeficiente de correlación de Pearson por pares de variables. Como vemos la matriz resulta simétrica y con unos en su diagonal."
   ]
  },
  {
   "cell_type": "code",
   "execution_count": 46,
   "id": "9a30d6d0-1ada-45fa-ac70-e0084b5e6f36",
   "metadata": {
    "tags": []
   },
   "outputs": [
    {
     "data": {
      "text/html": [
       "<div>\n",
       "<style scoped>\n",
       "    .dataframe tbody tr th:only-of-type {\n",
       "        vertical-align: middle;\n",
       "    }\n",
       "\n",
       "    .dataframe tbody tr th {\n",
       "        vertical-align: top;\n",
       "    }\n",
       "\n",
       "    .dataframe thead th {\n",
       "        text-align: right;\n",
       "    }\n",
       "</style>\n",
       "<table border=\"1\" class=\"dataframe\">\n",
       "  <thead>\n",
       "    <tr style=\"text-align: right;\">\n",
       "      <th></th>\n",
       "      <th>Sepal.Length</th>\n",
       "      <th>Sepal.Width</th>\n",
       "      <th>Petal.Length</th>\n",
       "      <th>Petal.Width</th>\n",
       "    </tr>\n",
       "  </thead>\n",
       "  <tbody>\n",
       "    <tr>\n",
       "      <th>Sepal.Length</th>\n",
       "      <td>1.000000</td>\n",
       "      <td>-0.117570</td>\n",
       "      <td>0.871754</td>\n",
       "      <td>0.817941</td>\n",
       "    </tr>\n",
       "    <tr>\n",
       "      <th>Sepal.Width</th>\n",
       "      <td>-0.117570</td>\n",
       "      <td>1.000000</td>\n",
       "      <td>-0.428440</td>\n",
       "      <td>-0.366126</td>\n",
       "    </tr>\n",
       "    <tr>\n",
       "      <th>Petal.Length</th>\n",
       "      <td>0.871754</td>\n",
       "      <td>-0.428440</td>\n",
       "      <td>1.000000</td>\n",
       "      <td>0.962865</td>\n",
       "    </tr>\n",
       "    <tr>\n",
       "      <th>Petal.Width</th>\n",
       "      <td>0.817941</td>\n",
       "      <td>-0.366126</td>\n",
       "      <td>0.962865</td>\n",
       "      <td>1.000000</td>\n",
       "    </tr>\n",
       "  </tbody>\n",
       "</table>\n",
       "</div>"
      ],
      "text/plain": [
       "              Sepal.Length  Sepal.Width  Petal.Length  Petal.Width\n",
       "Sepal.Length      1.000000    -0.117570      0.871754     0.817941\n",
       "Sepal.Width      -0.117570     1.000000     -0.428440    -0.366126\n",
       "Petal.Length      0.871754    -0.428440      1.000000     0.962865\n",
       "Petal.Width       0.817941    -0.366126      0.962865     1.000000"
      ]
     },
     "execution_count": 46,
     "metadata": {},
     "output_type": "execute_result"
    }
   ],
   "source": [
    "import pandas as pd\n",
    "import numpy as np\n",
    "\n",
    "from pydataset import data\n",
    "datos = data('iris')\n",
    "\n",
    "datos.corr(numeric_only=True)"
   ]
  },
  {
   "cell_type": "markdown",
   "id": "3cb96635-1513-4f5a-b26e-0ce2fd51b504",
   "metadata": {},
   "source": [
    "Por ejemplo, vemos que las variables *Petal.Width* y *Petal.Length* tienen un alto grado de asociación lineal positiva. En el diagrama de dispersión podemos evidenciarlo gráficamente."
   ]
  },
  {
   "cell_type": "code",
   "execution_count": 47,
   "id": "46d4aa98-40a6-4da9-8d4d-646bd4dd840e",
   "metadata": {
    "tags": []
   },
   "outputs": [
    {
     "data": {
      "image/png": "[encoded data removed]",
      "text/plain": [
       "<Figure size 640x480 with 1 Axes>"
      ]
     },
     "metadata": {},
     "output_type": "display_data"
    }
   ],
   "source": [
    "import matplotlib.pyplot as plt\n",
    "\n",
    "plt.scatter(datos['Petal.Length'], datos['Petal.Width'])\n",
    "plt.show()"
   ]
  },
  {
   "cell_type": "markdown",
   "id": "18edc826-14bb-4961-abf6-b84d40a1b712",
   "metadata": {},
   "source": [
    "## Referencias"
   ]
  },
  {
   "cell_type": "markdown",
   "id": "ae3401e5-7208-401c-ac22-303389e8852e",
   "metadata": {},
   "source": [
    "1. [CIENCIA DE DATOS O DATA ANALISIS: TÉRMINOS Y CONCEPTOS BÁSICOS, Unipython blog](https://unipython.com/ciencia-de-datos-o-data-analisis-terminos-y-conceptos-basicos/)\n",
    "2. Daniel Peña (2014). Fundamentos de estadística. Alianza editorial. Edición electrónica\n",
    "3. [Repositorio curso-python-us](https://github.com/mjimenalopez24/curso-python-us)\n"
   ]
  },
  {
   "cell_type": "markdown",
   "id": "3e79edb8-62a5-4546-a714-e39c7f39c6a4",
   "metadata": {},
   "source": [
    "## Autor"
   ]
  },
  {
   "cell_type": "markdown",
   "id": "2598a391-dd53-4a6f-9ed4-99ed714aa23f",
   "metadata": {},
   "source": [
    "<center>\n",
    "<img src=\"../img/FotoPerfil.jpg\"\n",
    "     width=\"20%\">\n",
    "</center>"
   ]
  },
  {
   "cell_type": "markdown",
   "id": "dddca521-b4a7-435b-ad2e-3a5b6e507d9e",
   "metadata": {},
   "source": [
    "**María Jimena López Munevar**\n",
    "\n",
    "Estudiante de pregrado en estadística de la Universidad Nacional de Colombia, con experiencia en programación y en análisis estadístico. Interesada en la ciencia y la investigación, particularmente en sus aplicaciones a las ciencias de la salud."
   ]
  },
  {
   "cell_type": "markdown",
   "id": "03a84e6a-0e4a-4a3e-9b9a-bfbbb12170fc",
   "metadata": {},
   "source": [
    "Click [aquí](https://nbviewer.org/github/mjimenalopez24/Diplomado_Ciencia_Datos/blob/main/Tareas/Tarea1.ipynb) para acceder al nbviewer de jupyter"
   ]
  }
 ],
 "metadata": {
  "kernelspec": {
   "display_name": "Python 3 (ipykernel)",
   "language": "python",
   "name": "python3"
  },
  "language_info": {
   "codemirror_mode": {
    "name": "ipython",
    "version": 3
   },
   "file_extension": ".py",
   "mimetype": "text/x-python",
   "name": "python",
   "nbconvert_exporter": "python",
   "pygments_lexer": "ipython3",
   "version": "3.10.8"
  }
 },
 "nbformat": 4,
 "nbformat_minor": 5
}
