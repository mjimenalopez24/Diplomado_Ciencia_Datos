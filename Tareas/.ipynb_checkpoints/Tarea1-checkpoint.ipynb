{
 "cells": [
  {
   "cell_type": "markdown",
   "id": "29bc11cf-fdba-425d-b107-747e26e1cd8b",
   "metadata": {},
   "source": [
    "# Ciencia de datos"
   ]
  },
  {
   "cell_type": "markdown",
   "id": "75926d26-0460-46df-8218-02e0f3d75525",
   "metadata": {},
   "source": [
    "![](InteligenciaArtificial/Diplomado_Ciencia_Datos/img/Data_Science_storytelling.jpeg)"
   ]
  },
  {
   "cell_type": "markdown",
   "id": "0ec31375-4b6e-4504-b0b3-a12dcca77251",
   "metadata": {},
   "source": [
    "![](InteligenciaArtificial/Diplomado_Ciencia_Datos/img/Python_logo.svg)"
   ]
  },
  {
   "cell_type": "markdown",
   "id": "02069573-992b-44e6-84c9-2cf932cb42f6",
   "metadata": {
    "tags": []
   },
   "source": [
    "En esta lección introduciremos el concepto de correlación, el cual es muy usado en la ciencia de datos."
   ]
  },
  {
   "cell_type": "markdown",
   "id": "63178b57-66e4-4002-9d97-d22e012df427",
   "metadata": {},
   "source": [
    "## Correlación\n",
    "\n",
    "### Definición\n",
    "\n",
    "> Mide la fuerza y dirección de una relación lineal y la proporcionalidad entre dos variables estadísticas distintas. Si ambas variables aumentan juntas, están correlacionadas de forma positiva. Si una crece y la otra disminuye, están correlacionados de forma negativa. No existe correlación si el cambio en una de las variables no tiene conexión alguna con el cambio en la otra variable.\n",
    "\n",
    "### Fórmula\n",
    "\n",
    "### Ejemplo"
   ]
  },
  {
   "cell_type": "markdown",
   "id": "18edc826-14bb-4961-abf6-b84d40a1b712",
   "metadata": {},
   "source": [
    "## Referencias"
   ]
  },
  {
   "cell_type": "markdown",
   "id": "ae3401e5-7208-401c-ac22-303389e8852e",
   "metadata": {},
   "source": [
    "1. [CIENCIA DE DATOS O DATA ANALISIS: TÉRMINOS Y CONCEPTOS BÁSICOS, Unipython blog](https://unipython.com/ciencia-de-datos-o-data-analisis-terminos-y-conceptos-basicos/)"
   ]
  },
  {
   "cell_type": "markdown",
   "id": "3e79edb8-62a5-4546-a714-e39c7f39c6a4",
   "metadata": {},
   "source": [
    "## Autor"
   ]
  },
  {
   "cell_type": "markdown",
   "id": "2598a391-dd53-4a6f-9ed4-99ed714aa23f",
   "metadata": {},
   "source": [
    "![](InteligenciaArtificial/Diplomado_Ciencia_Datos/img/Foto perfil.jpg)"
   ]
  },
  {
   "cell_type": "markdown",
   "id": "dddca521-b4a7-435b-ad2e-3a5b6e507d9e",
   "metadata": {},
   "source": [
    "**María Jimena López Munevar**\n",
    "\n",
    "Estudiante de pregrado en estadística de la Universidad Nacional de Colombia. Con experiencia en programación y en análisis estadístico. Interesada en la ciencia y la investigación."
   ]
  },
  {
   "cell_type": "markdown",
   "id": "03a84e6a-0e4a-4a3e-9b9a-bfbbb12170fc",
   "metadata": {},
   "source": [
    "Click [aquí](https://nbviewer.org/github/mjimenalopez24/Diplomado_Ciencia_Datos/blob/main/Tareas/Tarea1.ipynb) para acceder al nbviewer de jupyter"
   ]
  }
 ],
 "metadata": {
  "kernelspec": {
   "display_name": "Python 3 (ipykernel)",
   "language": "python",
   "name": "python3"
  },
  "language_info": {
   "codemirror_mode": {
    "name": "ipython",
    "version": 3
   },
   "file_extension": ".py",
   "mimetype": "text/x-python",
   "name": "python",
   "nbconvert_exporter": "python",
   "pygments_lexer": "ipython3",
   "version": "3.10.8"
  }
 },
 "nbformat": 4,
 "nbformat_minor": 5
}
