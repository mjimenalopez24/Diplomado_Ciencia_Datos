{
 "cells": [
  {
   "cell_type": "markdown",
   "id": "6dd49d19-7f01-4140-b8fa-32f6915837a5",
   "metadata": {},
   "source": [
    "# Ejercicios tarea 2"
   ]
  },
  {
   "cell_type": "markdown",
   "id": "7e5e9175-1afd-4cb2-a75a-659b458ae441",
   "metadata": {},
   "source": [
    "1. Escriba una función que reciba la fecha de nacimiento de una persona y calcule la edad de la persona"
   ]
  },
  {
   "cell_type": "code",
   "execution_count": 1,
   "id": "d6752055-b618-4ec2-856b-fc4a716a7647",
   "metadata": {
    "tags": []
   },
   "outputs": [
    {
     "name": "stdout",
     "output_type": "stream",
     "text": [
      "Su edad es: 20\n"
     ]
    }
   ],
   "source": [
    "from datetime import date, datetime\n",
    "\n",
    "def cal_edad(fecha_n):\n",
    "    fecha_actual = date.today()\n",
    "    edad = fecha_actual.year - fecha_n.year - ((fecha_actual.month, fecha_actual.day) < (fecha_n.month, fecha_n.day))\n",
    "    return edad\n",
    "\n",
    "fecha_nac = datetime.strptime(\"2002-12-24\", \"%Y-%m-%d\").date()\n",
    "print(\"Su edad es:\", cal_edad(fecha_nac))\n"
   ]
  },
  {
   "cell_type": "markdown",
   "id": "6fcab892-5e5c-4a24-b2ae-7cac5c7126f7",
   "metadata": {},
   "source": [
    "2. Crea una función EscribirCentrado, que reciba como parámetro un texto y lo escriba centrado en pantalla (suponiendo una anchura de 80 columnas; pista: deberás escribir 40 - longitud/2 espacios antes del texto)."
   ]
  },
  {
   "cell_type": "markdown",
   "id": "57e6a90e-b605-47ec-b5a4-dd9cb36f8629",
   "metadata": {},
   "source": [
    "3. Construya una función decorada que reciba un texto y lo escriba marcado con Markdown en itálica y resaltada (bold). Revise la lección de decoradores, no vista en clase."
   ]
  },
  {
   "cell_type": "markdown",
   "id": "dc96199c-5f9d-46ae-a417-ea70e8d1928b",
   "metadata": {},
   "source": [
    "4. Crea un programa que pida dos número enteros al usuario y diga si alguno de ellos es múltiplo del otro."
   ]
  },
  {
   "cell_type": "code",
   "execution_count": 2,
   "id": "ee0d7c3a-c6da-474e-a35b-2529512493c0",
   "metadata": {
    "tags": []
   },
   "outputs": [
    {
     "name": "stdout",
     "output_type": "stream",
     "text": [
      "Ingrese dos número enteros:\n"
     ]
    },
    {
     "name": "stdin",
     "output_type": "stream",
     "text": [
      "Primero:  3\n",
      "Segundo:  6\n"
     ]
    },
    {
     "name": "stdout",
     "output_type": "stream",
     "text": [
      "6 es múltiplo de 3\n"
     ]
    }
   ],
   "source": [
    "print(\"Ingrese dos número enteros:\")\n",
    "num1 = int(input(\"Primero: \"))\n",
    "num2 = int(input(\"Segundo: \"))\n",
    "\n",
    "if num1 % num2 == 0:\n",
    "    print(f\"{num1} es múltiplo de {num2}\")\n",
    "elif num2 % num1 == 0:\n",
    "    print(f\"{num2} es múltiplo de {num1}\")\n",
    "else:\n",
    "    print(\"Ningún número es múltiplo del otro\")\n"
   ]
  },
  {
   "cell_type": "markdown",
   "id": "6d06fe8e-6269-4d28-a971-ff556bf7c18a",
   "metadata": {},
   "source": [
    "5. Crear una función re reciba una lista  de 24 valores de temperatura leída  hora en un día y que calcule la temperatura media  Cree una lista con 24 valores de temperatura de un día de Bogotá y pruebe su función. Invente los datos.\n",
    "\n",
    "\n",
    "5. Crea un función “ConvertirEspaciado”, que reciba como parámetro un texto y devuelve una cadena con un espacio adicional tras cada letra. Por ejemplo, “Hola, tú” devolverá “H o l a , t ú “.  Pruebe \n",
    "\n",
    "6. Crea una función “calcularMaxMin” que recibe una arreglo con valores numérico y devuelve el valor máximo y el mínimo. \n",
    "7.  Diseñar una función que calcule el área y el perímetro de una circunferencia. \n",
    "\n",
    "8. Crear una función  llamada “Login”, que recibe un nombre de usuario y una contraseña y devuelva Verdadero si el nombre de usuario es “usuario1” y la contraseña es “asdasd”. Además recibe el número de intentos que se ha intentado hacer login y si no se ha podido hacer login incremente este valor.\n",
    "\n",
    "9. Crear una función recursiva que permita calcular el factorial de un número. Realiza un programa principal donde se lea un entero y se muestre el resultado del factorial. Revise la lección de funciones.\n",
    "\n",
    "10. Escribir dos funciones que permitan calcular:\n",
    "La cantidad de segundos en un tiempo dado en horas, minutos y segundos.\n",
    "La cantidad de horas, minutos y segundos de un tiempo dado en segundos\n",
    "\n",
    "11. Crea una función  que lea una tupla, invierta los valores de la tupla y regrese una nueva tupla invirtiendo los valores. Recuerde que las tuplas son inmutables.\n",
    "\n",
    "12. Escriba una función que lea una lista y calcule la media geométrica de sus valores, usando funtools.reduce."
   ]
  },
  {
   "cell_type": "code",
   "execution_count": null,
   "id": "e00ad97d-5f9a-4b32-987f-893ef8567b2e",
   "metadata": {},
   "outputs": [],
   "source": []
  }
 ],
 "metadata": {
  "kernelspec": {
   "display_name": "Python 3 (ipykernel)",
   "language": "python",
   "name": "python3"
  },
  "language_info": {
   "codemirror_mode": {
    "name": "ipython",
    "version": 3
   },
   "file_extension": ".py",
   "mimetype": "text/x-python",
   "name": "python",
   "nbconvert_exporter": "python",
   "pygments_lexer": "ipython3",
   "version": "3.10.8"
  }
 },
 "nbformat": 4,
 "nbformat_minor": 5
}
