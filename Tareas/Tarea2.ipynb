{
 "cells": [
  {
   "cell_type": "markdown",
   "id": "6dd49d19-7f01-4140-b8fa-32f6915837a5",
   "metadata": {},
   "source": [
    "# Ejercicios tarea 2"
   ]
  },
  {
   "cell_type": "markdown",
   "id": "7e5e9175-1afd-4cb2-a75a-659b458ae441",
   "metadata": {},
   "source": [
    "1. Escriba una función que reciba la fecha de nacimiento de una persona y calcule la edad de la persona"
   ]
  },
  {
   "cell_type": "code",
   "execution_count": 1,
   "id": "d6752055-b618-4ec2-856b-fc4a716a7647",
   "metadata": {
    "tags": []
   },
   "outputs": [
    {
     "name": "stdout",
     "output_type": "stream",
     "text": [
      "Su edad es: 20\n"
     ]
    }
   ],
   "source": [
    "from datetime import date, datetime\n",
    "\n",
    "def cal_edad(fecha_n):\n",
    "    fecha_actual = date.today()\n",
    "    edad = fecha_actual.year - fecha_n.year - ((fecha_actual.month, fecha_actual.day) < (fecha_n.month, fecha_n.day))\n",
    "    return edad\n",
    "\n",
    "fecha_nac = datetime.strptime(\"2002-12-24\", \"%Y-%m-%d\").date()\n",
    "print(\"Su edad es:\", cal_edad(fecha_nac))\n"
   ]
  },
  {
   "cell_type": "markdown",
   "id": "6fcab892-5e5c-4a24-b2ae-7cac5c7126f7",
   "metadata": {},
   "source": [
    "2. Crea una función EscribirCentrado, que reciba como parámetro un texto y lo escriba centrado en pantalla (suponiendo una anchura de 80 columnas; pista: deberás escribir 40 - longitud/2 espacios antes del texto)."
   ]
  },
  {
   "cell_type": "code",
   "execution_count": 29,
   "id": "d3ee724e-a49a-4eb2-a82d-ad17b83ece27",
   "metadata": {
    "tags": []
   },
   "outputs": [
    {
     "name": "stdout",
     "output_type": "stream",
     "text": [
      "           Jimena Lopez           \n"
     ]
    }
   ],
   "source": [
    "def EscribirCentrado(texto):\n",
    "    ancho = 80\n",
    "    longitud_texto = len(texto)\n",
    "    texto_centrado = texto.center(math.trunc((ancho/2))-(math.trunc(longitud_texto/2)))\n",
    "    print(texto_centrado)\n",
    "\n",
    "EscribirCentrado('Jimena Lopez')"
   ]
  },
  {
   "cell_type": "markdown",
   "id": "57e6a90e-b605-47ec-b5a4-dd9cb36f8629",
   "metadata": {},
   "source": [
    "3. Construya una función decorada que reciba un texto y lo escriba marcado con Markdown en itálica y resaltada (bold). Revise la lección de decoradores, no vista en clase."
   ]
  },
  {
   "cell_type": "code",
   "execution_count": 32,
   "id": "b69222ff-2315-4d3c-8ae1-9cc02bf1b12b",
   "metadata": {
    "tags": []
   },
   "outputs": [],
   "source": [
    "def Textomd(funcion):\n",
    "    def italica_negrita(*args, **kwargs):\n",
    "        texto = funcion(*args, **kwargs)\n",
    "        return \"**_\" + texto + \"_**\"\n",
    "    return italica_negrita\n",
    "\n",
    "@Textomd\n",
    "def EscribirTexto(texto):\n",
    "    return texto"
   ]
  },
  {
   "cell_type": "code",
   "execution_count": 33,
   "id": "caea6c0a-100c-44dd-a521-03bbf86a6b22",
   "metadata": {
    "tags": []
   },
   "outputs": [
    {
     "name": "stdout",
     "output_type": "stream",
     "text": [
      "**_Jimena Lopez_**\n"
     ]
    }
   ],
   "source": [
    "texto = 'Jimena Lopez'\n",
    "resultado = EscribirTexto(texto)\n",
    "print(resultado)"
   ]
  },
  {
   "cell_type": "markdown",
   "id": "df9d761e-b8f7-40d8-8a1c-ba41e4a6f007",
   "metadata": {},
   "source": [
    "**_Jimena Lopez_**"
   ]
  },
  {
   "cell_type": "markdown",
   "id": "dc96199c-5f9d-46ae-a417-ea70e8d1928b",
   "metadata": {},
   "source": [
    "4. Crea un programa que pida dos número enteros al usuario y diga si alguno de ellos es múltiplo del otro."
   ]
  },
  {
   "cell_type": "code",
   "execution_count": 2,
   "id": "ee0d7c3a-c6da-474e-a35b-2529512493c0",
   "metadata": {
    "tags": []
   },
   "outputs": [
    {
     "name": "stdout",
     "output_type": "stream",
     "text": [
      "Ingrese dos número enteros:\n"
     ]
    },
    {
     "name": "stdin",
     "output_type": "stream",
     "text": [
      "Primero:  3\n",
      "Segundo:  6\n"
     ]
    },
    {
     "name": "stdout",
     "output_type": "stream",
     "text": [
      "6 es múltiplo de 3\n"
     ]
    }
   ],
   "source": [
    "print(\"Ingrese dos número enteros:\")\n",
    "num1 = int(input(\"Primero: \"))\n",
    "num2 = int(input(\"Segundo: \"))\n",
    "\n",
    "if num1 % num2 == 0:\n",
    "    print(f\"{num1} es múltiplo de {num2}\")\n",
    "elif num2 % num1 == 0:\n",
    "    print(f\"{num2} es múltiplo de {num1}\")\n",
    "else:\n",
    "    print(\"Ningún número es múltiplo del otro\")\n"
   ]
  },
  {
   "cell_type": "markdown",
   "id": "546a3ae7-108a-4f1a-b018-dbcbe28e3b5d",
   "metadata": {},
   "source": [
    "5. Crear una función quereciba una lista  de 24 valores de temperatura leída hora en un día y que calcule la temperatura media. Cree una lista con 24 valores de temperatura de un día de Bogotá y pruebe su función. Invente los datos."
   ]
  },
  {
   "cell_type": "code",
   "execution_count": 55,
   "id": "2a1c7fe0-b344-49be-ac7d-bb48911f6e93",
   "metadata": {
    "tags": []
   },
   "outputs": [],
   "source": [
    "def temp_promedio(lista):\n",
    "    media = sum(lista)/24\n",
    "    return(media)"
   ]
  },
  {
   "cell_type": "code",
   "execution_count": 69,
   "id": "85c2dfd3-9fdb-4453-9fb3-56e3e70075b6",
   "metadata": {
    "tags": []
   },
   "outputs": [
    {
     "name": "stdout",
     "output_type": "stream",
     "text": [
      "La temperatura promedio es: 13.166666666666666\n"
     ]
    }
   ],
   "source": [
    "import random\n",
    "\n",
    "random.seed(1302)\n",
    "valores = [random.randint(8, 17) for i in range(24)]\n",
    "print(\"La temperatura promedio es:\", temp_promedio(valores))"
   ]
  },
  {
   "cell_type": "markdown",
   "id": "13b048fe-dc88-4326-96f9-64be1bceed4e",
   "metadata": {},
   "source": [
    "6. Crea un función “ConvertirEspaciado”, que reciba como parámetro un texto y devuelve una cadena con un espacio adicional tras cada letra. Por ejemplo, “Hola, tú” devolverá “H o l a , t ú “.  Pruebe "
   ]
  },
  {
   "cell_type": "code",
   "execution_count": 60,
   "id": "5bcb0d0a-d46c-4483-a5c4-b2d8dce21c4a",
   "metadata": {
    "tags": []
   },
   "outputs": [],
   "source": [
    "def ConvertirEspaciado(texto):\n",
    "    texto_espaciado = \"\"\n",
    "    for i in texto:\n",
    "        texto_espaciado += i + \" \"\n",
    "    return texto_espaciado"
   ]
  },
  {
   "cell_type": "code",
   "execution_count": 61,
   "id": "3f527572-ba0e-4ec1-9ca0-56b5c2c18e47",
   "metadata": {
    "tags": []
   },
   "outputs": [
    {
     "name": "stdout",
     "output_type": "stream",
     "text": [
      "H o l a ,   t ú \n"
     ]
    }
   ],
   "source": [
    "texto = 'Hola, tú'\n",
    "nuevo_texto = ConvertirEspaciado(texto)\n",
    "print(nuevo_texto)"
   ]
  },
  {
   "cell_type": "markdown",
   "id": "03005be4-3eed-4f1d-a339-b174b8aaa23f",
   "metadata": {},
   "source": [
    "7. Crea una función “calcularMaxMin” que recibe una arreglo con valores numérico y devuelve el valor máximo y el mínimo. "
   ]
  },
  {
   "cell_type": "code",
   "execution_count": 73,
   "id": "46ea97f6-ee79-4537-87d9-a6037e0e479e",
   "metadata": {
    "tags": []
   },
   "outputs": [
    {
     "name": "stdout",
     "output_type": "stream",
     "text": [
      "El máximo es 17 y el mínimo es 8\n"
     ]
    }
   ],
   "source": [
    "def calcularMaxMin(numeros):\n",
    "    maximo = max(numeros)\n",
    "    minimo = min(numeros)\n",
    "    return ([maximo, minimo])\n",
    "\n",
    "resultado = calcularMaxMin(valores)\n",
    "print(\"El máximo es\", resultado[0], \"y el mínimo es\", resultado[1])"
   ]
  },
  {
   "cell_type": "markdown",
   "id": "92a786ed-2706-44d5-a84f-f458ba270b93",
   "metadata": {
    "tags": []
   },
   "source": [
    "8.  Diseñar una función que calcule el área y el perímetro de una circunferencia. "
   ]
  },
  {
   "cell_type": "code",
   "execution_count": 76,
   "id": "d3022158-8d6c-4bdd-b475-00d55c0049e9",
   "metadata": {
    "tags": []
   },
   "outputs": [
    {
     "name": "stdout",
     "output_type": "stream",
     "text": [
      "El área es 78.53981633974483 y el perímetro es 31.41592653589793\n"
     ]
    }
   ],
   "source": [
    "def AreaPerimetroCircunferencia(radio):\n",
    "    area = math.pi * (radio ** 2)\n",
    "    perimetro = 2 * math.pi * radio\n",
    "    return ([area, perimetro])\n",
    "\n",
    "resultado = AreaPerimetroCircunferencia(5)\n",
    "print(\"El área es\", resultado[0], \"y el perímetro es\", resultado[1])"
   ]
  },
  {
   "cell_type": "markdown",
   "id": "27e7e0a4-41af-4015-b153-18a68a7cb5ed",
   "metadata": {},
   "source": [
    "9. Crear una función  llamada “Login”, que recibe un nombre de usuario y una contraseña y devuelva Verdadero si el nombre de usuario es “usuario1” y la contraseña es “asdasd”. Además recibe el número de intentos que se ha intentado hacer login y si no se ha podido hacer login incremente este valor."
   ]
  },
  {
   "cell_type": "code",
   "execution_count": 93,
   "id": "c63e2f88-587c-4cdd-a089-fd995b2ab30d",
   "metadata": {
    "tags": []
   },
   "outputs": [],
   "source": [
    "def Login():\n",
    "    print(\"A continuación debera iniciar sesión\")\n",
    "    usuario = str(input(\"Usuario: \"))\n",
    "    contrasena = str(input(\"Contraseña: \"))\n",
    "    intentos = 1\n",
    "    while (usuario != 'usuario1') & (contrasena != 'asdasd'):\n",
    "        intentos += 1\n",
    "        print('Ingreso erroneamente los datos, pruebe otra vez')\n",
    "        usuario = str(input(\"Usuario: \"))\n",
    "        contrasena = str(input(\"Contraseña: \"))\n",
    "    print('Ingreso correctamente los datos, en el intento número ', intentos)\n",
    "    return(True)"
   ]
  },
  {
   "cell_type": "code",
   "execution_count": 94,
   "id": "43ccdfb5-e4e8-4235-896e-6967087542a0",
   "metadata": {
    "tags": []
   },
   "outputs": [
    {
     "name": "stdout",
     "output_type": "stream",
     "text": [
      "A continuación debera iniciar sesión\n"
     ]
    },
    {
     "name": "stdin",
     "output_type": "stream",
     "text": [
      "Usuario:  usuario1\n",
      "Contraseña:  asdasd\n"
     ]
    },
    {
     "name": "stdout",
     "output_type": "stream",
     "text": [
      "Ingreso correctamente los datos, en el intento número  1\n"
     ]
    },
    {
     "data": {
      "text/plain": [
       "True"
      ]
     },
     "execution_count": 94,
     "metadata": {},
     "output_type": "execute_result"
    }
   ],
   "source": [
    "Login()"
   ]
  },
  {
   "cell_type": "markdown",
   "id": "54ab5548-d050-4ada-8250-802b9c2573bc",
   "metadata": {},
   "source": [
    "10. Crear una función recursiva que permita calcular el factorial de un número. Realiza un programa principal donde se lea un entero y se muestre el resultado del factorial. Revise la lección de funciones."
   ]
  },
  {
   "cell_type": "code",
   "execution_count": 1,
   "id": "bd568ba3-0806-4555-98f2-267d344f3821",
   "metadata": {
    "tags": []
   },
   "outputs": [
    {
     "name": "stdin",
     "output_type": "stream",
     "text": [
      "Introduce un número:  3\n"
     ]
    },
    {
     "name": "stdout",
     "output_type": "stream",
     "text": [
      "El factorial de 3 es 6\n"
     ]
    }
   ],
   "source": [
    "def factorial(n):\n",
    "    if n == 0 or n == 1:\n",
    "        return 1\n",
    "    else:\n",
    "        return n * factorial(n-1)\n",
    "\n",
    "numero = int(input(\"Introduce un número: \"))\n",
    "print(\"El factorial de\", numero, \"es\", factorial(numero))"
   ]
  },
  {
   "cell_type": "markdown",
   "id": "c19398aa-39a5-4585-93d3-da0ca0e9ce44",
   "metadata": {},
   "source": [
    "11. Escribir dos funciones que permitan calcular:\n",
    "La cantidad de segundos en un tiempo dado en horas, minutos y segundos.\n",
    "La cantidad de horas, minutos y segundos de un tiempo dado en segundos"
   ]
  },
  {
   "cell_type": "code",
   "execution_count": 29,
   "id": "d23adb76-5c72-44bd-8117-5c7a530eee2a",
   "metadata": {
    "tags": []
   },
   "outputs": [],
   "source": [
    "def tiempo_a_segundos():\n",
    "    horas = int(input(\"Introduce el número de horas: \"))\n",
    "    while (horas < 0):\n",
    "        print(\"Las horas deben ser un entero no negativo\")\n",
    "        horas = int(input(\"Introduce el número de horas: \"))\n",
    "    minutos = int(input(\"Introduce el número de minutos: \"))\n",
    "    while (minutos < 0) | (minutos >= 60):\n",
    "        print(\"Los minutos deben estar entre 0 y 59\")\n",
    "        minutos = int(input(\"Introduce el número de minutos: \"))\n",
    "    segundos = int(input(\"Introduce el número de segundos: \"))\n",
    "    while (segundos < 0) | (segundos >= 60):\n",
    "        print(\"Los segundos deben estar entre 0 y 59\")\n",
    "        segundos = int(input(\"Introduce el número de segundos: \"))\n",
    "    total_segundos = horas * 3600 + minutos * 60 + segundos\n",
    "    print(\"La cantidad total de segundos es:\", total_segundos)\n",
    "    return total_segundos"
   ]
  },
  {
   "cell_type": "code",
   "execution_count": 30,
   "id": "57629557-54ab-49ed-99cb-d96ed6f07f65",
   "metadata": {
    "tags": []
   },
   "outputs": [
    {
     "name": "stdin",
     "output_type": "stream",
     "text": [
      "Introduce el número de horas:  -9\n"
     ]
    },
    {
     "name": "stdout",
     "output_type": "stream",
     "text": [
      "Las horas deben ser un entero no negativo\n"
     ]
    },
    {
     "name": "stdin",
     "output_type": "stream",
     "text": [
      "Introduce el número de horas:  8\n",
      "Introduce el número de minutos:  -9\n"
     ]
    },
    {
     "name": "stdout",
     "output_type": "stream",
     "text": [
      "Los minutos deben estar entre 0 y 59\n"
     ]
    },
    {
     "name": "stdin",
     "output_type": "stream",
     "text": [
      "Introduce el número de minutos:  9\n",
      "Introduce el número de segundos:  9\n"
     ]
    },
    {
     "name": "stdout",
     "output_type": "stream",
     "text": [
      "La cantidad total de segundos es: 29349\n"
     ]
    },
    {
     "data": {
      "text/plain": [
       "29349"
      ]
     },
     "execution_count": 30,
     "metadata": {},
     "output_type": "execute_result"
    }
   ],
   "source": [
    "tiempo_a_segundos()"
   ]
  },
  {
   "cell_type": "code",
   "execution_count": 31,
   "id": "c58aaa76-5b5a-41d5-bd78-d10f4760424c",
   "metadata": {
    "tags": []
   },
   "outputs": [
    {
     "name": "stdin",
     "output_type": "stream",
     "text": [
      "Introduce la cantidad de segundos:  900\n"
     ]
    },
    {
     "name": "stdout",
     "output_type": "stream",
     "text": [
      "Corresponde a: 0 horas, 15 minutos y 0 segundos.\n"
     ]
    }
   ],
   "source": [
    "def segundos_a_tiempo(total_segundos):\n",
    "    horas = total_segundos // 3600\n",
    "    minutos = (total_segundos % 3600) // 60\n",
    "    segundos = total_segundos % 60\n",
    "    return horas, minutos, segundos\n",
    "\n",
    "total_segundos = int(input(\"Introduce la cantidad de segundos: \"))\n",
    "horas, minutos, segundos = segundos_a_tiempo(total_segundos)\n",
    "print(\"Corresponde a:\", horas, \"horas,\", minutos, \"minutos y\", segundos, \"segundos.\")"
   ]
  },
  {
   "cell_type": "markdown",
   "id": "dfe6f8d3-aa60-4258-a27d-187deca9c0b2",
   "metadata": {},
   "source": [
    "12. Crea una función  que lea una tupla, invierta los valores de la tupla y regrese una nueva tupla invirtiendo los valores. Recuerde que las tuplas son inmutables."
   ]
  },
  {
   "cell_type": "code",
   "execution_count": 36,
   "id": "8c866387-274b-4064-98f5-6300fcfefe53",
   "metadata": {
    "tags": []
   },
   "outputs": [
    {
     "name": "stdout",
     "output_type": "stream",
     "text": [
      "(5, 4, 3, 2, 1)\n"
     ]
    }
   ],
   "source": [
    "def invertir_tupla(tupla):\n",
    "    return tupla[::-1]\n",
    "\n",
    "tupla = (1, 2, 3, 4, 5)\n",
    "tupla_invertida = invertir_tupla(tupla)\n",
    "print(tupla_invertida1)"
   ]
  },
  {
   "cell_type": "markdown",
   "id": "6d06fe8e-6269-4d28-a971-ff556bf7c18a",
   "metadata": {},
   "source": [
    "13. Escriba una función que lea una lista y calcule la media geométrica de sus valores, usando funtools.reduce."
   ]
  },
  {
   "cell_type": "code",
   "execution_count": 37,
   "id": "323db9d3-245e-429c-bc2e-fcaad46a1107",
   "metadata": {},
   "outputs": [
    {
     "name": "stdout",
     "output_type": "stream",
     "text": [
      "2.605171084697352\n"
     ]
    }
   ],
   "source": [
    "import functools\n",
    "import math\n",
    "\n",
    "def media_geometrica(lista):\n",
    "    multiplicacion = functools.reduce(lambda x, y: x*y, lista)\n",
    "    media = math.pow(multiplicacion, 1/len(lista))\n",
    "    return media\n",
    "\n",
    "lista = [1, 2, 3, 4, 5]\n",
    "media = media_geometrica(lista)\n",
    "print(media)"
   ]
  }
 ],
 "metadata": {
  "kernelspec": {
   "display_name": "Python 3 (ipykernel)",
   "language": "python",
   "name": "python3"
  },
  "language_info": {
   "codemirror_mode": {
    "name": "ipython",
    "version": 3
   },
   "file_extension": ".py",
   "mimetype": "text/x-python",
   "name": "python",
   "nbconvert_exporter": "python",
   "pygments_lexer": "ipython3",
   "version": "3.10.8"
  }
 },
 "nbformat": 4,
 "nbformat_minor": 5
}
