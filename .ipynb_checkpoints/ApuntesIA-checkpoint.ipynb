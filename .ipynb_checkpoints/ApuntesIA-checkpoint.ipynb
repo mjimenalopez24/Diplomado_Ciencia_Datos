{
 "cells": [
  {
   "cell_type": "markdown",
   "id": "dee01efe-9948-4dc4-a1a2-8e23c0c96c8e",
   "metadata": {},
   "source": [
    "# Mi primer cuaderno en Jupyter"
   ]
  },
  {
   "cell_type": "markdown",
   "id": "763fef5f-f07a-4fc9-b56c-11ba81f41267",
   "metadata": {},
   "source": [
    "## Apuntes de las clases"
   ]
  },
  {
   "cell_type": "markdown",
   "id": "0fcd8e07-1bb2-472d-b19a-cc1dc8523ed8",
   "metadata": {},
   "source": [
    "### Clase del 08 de febrero\n",
    "\n",
    "**Tarea:** Instalar Anaconda, crear un cuaderno en Jupyter y subirlo a GitHub"
   ]
  },
  {
   "cell_type": "code",
   "execution_count": null,
   "id": "52e76fb4-31dc-403c-b7eb-c5fc8a06e3c0",
   "metadata": {},
   "outputs": [],
   "source": []
  }
 ],
 "metadata": {
  "kernelspec": {
   "display_name": "Python 3 (ipykernel)",
   "language": "python",
   "name": "python3"
  },
  "language_info": {
   "codemirror_mode": {
    "name": "ipython",
    "version": 3
   },
   "file_extension": ".py",
   "mimetype": "text/x-python",
   "name": "python",
   "nbconvert_exporter": "python",
   "pygments_lexer": "ipython3",
   "version": "3.10.8"
  }
 },
 "nbformat": 4,
 "nbformat_minor": 5
}
