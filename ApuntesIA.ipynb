{
 "cells": [
  {
   "cell_type": "markdown",
   "id": "dee01efe-9948-4dc4-a1a2-8e23c0c96c8e",
   "metadata": {},
   "source": [
    "# Mi primer cuaderno en Jupyter"
   ]
  },
  {
   "cell_type": "markdown",
   "id": "763fef5f-f07a-4fc9-b56c-11ba81f41267",
   "metadata": {},
   "source": [
    "## Apuntes de las clases"
   ]
  },
  {
   "cell_type": "markdown",
   "id": "0fcd8e07-1bb2-472d-b19a-cc1dc8523ed8",
   "metadata": {},
   "source": [
    "### Clase del 08 de febrero\n",
    "\n",
    "**Revisar**\n",
    "\n",
    "- Canal de Youtube Dot CSV\n",
    "- Hugging face\n",
    "- Cicero Meta\n",
    "\n",
    "**Tarea:** Instalar Anaconda, crear un cuaderno en Jupyter y subirlo a GitHub"
   ]
  },
  {
   "cell_type": "markdown",
   "id": "8c96730b-e9aa-4cb3-8ea2-d4563ac3b227",
   "metadata": {},
   "source": [
    "### Clase del 13 de febrero\n",
    "\n",
    "[Redes neuronales intro](https://github.com/AprendizajeProfundo/diplomado-ciencia-de-datos/blob/main/redes-neuronales/Cuadernos/RedesNeuronales_intro.ipynb)\n",
    "\n",
    "* Las redes neuronales son funciones 'especiales'.\n",
    "* Toda función se puede aproximar con una red neuronal.\n",
    "\n",
    "* Función de activación > no lineal en redes neuronales.\n",
    "* Una imagen la puedo ver como un tensor, el tensor como matrices (una al lado de la otra) y una matriz como un vector. Es decir, puedo ver una imagen como un vector. De la misma forma puedo ver un video como un vector.\n",
    "\n",
    "* Trasductor: objetos que transforman un tipo de señal en otra\n",
    "\n",
    "* Los modelos lineales son casos particulares de las redes neuronales cuando la función de activación es lineal\n",
    "\n",
    "* **Redes neuronales**\n",
    "    * Entradas (features) y salidas (esta target): tensores, vectores\n",
    "    * Internamente: cada capa es una función (por lo tanto se realizan productos de matrices)\n",
    "    * En cada paso ocurre una regresión lineal (activación) seguida de una transformación no lineal (producto de matrices/vectores).\n",
    "    * Hay modelos que no requieren datos para ser entrenados\n",
    "    * Siempre se habla de minimización: no sirven los métodos tradicionales porque son muchos parámetros (no uso diferenciación numérica, ni diferenciación simbólica, se suele usar diferenciación automática con árboles de calculo).\n",
    "    * Función de pérdida -> -logverosimilitud (se busca minimizar)\n",
    "    * Umbrales = sesgos\n",
    "    * Existen diferentes arquitecturas\n",
    "    * Resultado = etiqueta\n",
    "    * Entrenar una red es estimar parámetro -> afinando con más datos\n",
    "    * Cada capa contiene una representación de los datos\n",
    "* Ingenieria de features = pre-procesamiento de datos\n",
    "* Se pueden aumentar los datos haciendo pequeñas transformaciones sobre los que ya tengo\n",
    "* Red convolucional\n",
    "    * Los pesos se calculan diferentes\n",
    "    * Se usan filtros\n",
    "    * Se piensa diferente\n",
    "* Transformer\n",
    "    * Por ejemplo chat GPT\n",
    "* Red recurrente\n",
    "    * Recuerdan información previa\n",
    "    * Por ejemplo para traducción de textos\n",
    "* Auto encoder\n",
    "    * No necesitan target\n",
    "    * Tiene el mismo tamaño de entrada y de salida\n",
    "    * Sirve como reductor de dimensión\n",
    "    * Los datos se auto-organizan -> las cosas que se parecen estan cerca\n",
    "    "
   ]
  },
  {
   "cell_type": "markdown",
   "id": "c3af6536-4f45-4ae2-9cbc-1a3b40242922",
   "metadata": {},
   "source": [
    "# Proyecto\n",
    "\n",
    "- Cuál es la entrada?\n",
    "- Cuál es la salida?\n",
    "\n",
    "## Ideas del proyecto\n",
    "\n",
    "* [Imágenes de cáncer](https://www.kaggle.com/competitions/mammography-image-patch-classification-test/overview/description)\n",
    "* [Reservas hoteleras](https://www.kaggle.com/competitions/reserva-confirmada/overview)\n",
    "* [](https://www.kaggle.com/competitions/11-785-s23-hw2p2-classification/data)"
   ]
  },
  {
   "cell_type": "code",
   "execution_count": null,
   "id": "121fc30b-5798-4803-8a05-5096a18853e3",
   "metadata": {},
   "outputs": [],
   "source": []
  }
 ],
 "metadata": {
  "kernelspec": {
   "display_name": "Python 3 (ipykernel)",
   "language": "python",
   "name": "python3"
  },
  "language_info": {
   "codemirror_mode": {
    "name": "ipython",
    "version": 3
   },
   "file_extension": ".py",
   "mimetype": "text/x-python",
   "name": "python",
   "nbconvert_exporter": "python",
   "pygments_lexer": "ipython3",
   "version": "3.10.8"
  }
 },
 "nbformat": 4,
 "nbformat_minor": 5
}
