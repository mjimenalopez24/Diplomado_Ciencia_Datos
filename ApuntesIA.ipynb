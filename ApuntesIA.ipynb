{
 "cells": [
  {
   "cell_type": "markdown",
   "id": "dee01efe-9948-4dc4-a1a2-8e23c0c96c8e",
   "metadata": {},
   "source": [
    "# Mi primer cuaderno en Jupyter"
   ]
  },
  {
   "cell_type": "markdown",
   "id": "763fef5f-f07a-4fc9-b56c-11ba81f41267",
   "metadata": {},
   "source": [
    "## Apuntes de las clases"
   ]
  },
  {
   "cell_type": "markdown",
   "id": "0fcd8e07-1bb2-472d-b19a-cc1dc8523ed8",
   "metadata": {},
   "source": [
    "### Clase del 08 de febrero\n",
    "\n",
    "**Revisar**\n",
    "\n",
    "- Canal de Youtube Dot CSV\n",
    "- Hugging face\n",
    "- Cicero Meta\n",
    "\n",
    "**Tarea:** Instalar Anaconda, crear un cuaderno en Jupyter y subirlo a GitHub"
   ]
  },
  {
   "cell_type": "markdown",
   "id": "8c96730b-e9aa-4cb3-8ea2-d4563ac3b227",
   "metadata": {},
   "source": [
    "### Clase del 13 de febrero\n",
    "\n",
    "[Redes neuronales intro](https://github.com/AprendizajeProfundo/diplomado-ciencia-de-datos/blob/main/redes-neuronales/Cuadernos/RedesNeuronales_intro.ipynb)\n",
    "\n",
    "* Las redes neuronales son funciones 'especiales'.\n",
    "* Toda función se puede aproximar con una red neuronal.\n",
    "\n",
    "* Función de activación > no lineal en redes neuronales.\n",
    "* Una imagen la puedo ver como un tensor, el tensor como matrices (una al lado de la otra) y una matriz como un vector. Es decir, puedo ver una imagen como un vector. De la misma forma puedo ver un video como un vector.\n",
    "\n",
    "* Trasductor\n",
    "\n",
    "* Los modelos lineales son casos particulares de las redes neuronales cuando la función de activación es lineal\n",
    "\n",
    "* **Redes neuronales**\n",
    "    * Entradas (features) y salidas (esta target): tensores, vectores\n",
    "    * Internamente: cada capa es una función (por lo tanto se realizan productos de matrices)\n",
    "    * En cada paso ocurre una regresión lineal seguida de una transformación no lineal.\n",
    "    * Hay modelos que no requieren datos para ser entrenados\n",
    "    * Siempre se habla de minimización: no sirven los métodos tradicionales porque son muchos parámetros (no uso diferenciación numérica, ni diferenciación simbólica, se suele usar diferenciación automática con árboles de calculo).\n",
    "    * Umbrales = sesgos\n",
    "    * Existen diferentes arquitecturas\n",
    "    * Resultado = etiqueta\n"
   ]
  },
  {
   "cell_type": "code",
   "execution_count": null,
   "id": "88ff277c-9166-4f05-b80d-2e717968b7ca",
   "metadata": {},
   "outputs": [],
   "source": []
  }
 ],
 "metadata": {
  "kernelspec": {
   "display_name": "Python 3 (ipykernel)",
   "language": "python",
   "name": "python3"
  },
  "language_info": {
   "codemirror_mode": {
    "name": "ipython",
    "version": 3
   },
   "file_extension": ".py",
   "mimetype": "text/x-python",
   "name": "python",
   "nbconvert_exporter": "python",
   "pygments_lexer": "ipython3",
   "version": "3.10.8"
  }
 },
 "nbformat": 4,
 "nbformat_minor": 5
}
